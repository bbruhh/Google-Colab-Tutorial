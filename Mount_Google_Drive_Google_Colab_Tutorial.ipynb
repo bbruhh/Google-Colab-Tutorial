{
  "nbformat": 4,
  "nbformat_minor": 0,
  "metadata": {
    "colab": {
      "name": "Mount Google Drive - Google Colab Tutorial.ipynb",
      "version": "0.3.2",
      "provenance": []
    },
    "kernelspec": {
      "name": "python3",
      "display_name": "Python 3"
    }
  },
  "cells": [
    {
      "metadata": {
        "id": "_Eehp28ouRVa",
        "colab_type": "code",
        "colab": {}
      },
      "cell_type": "code",
      "source": [
        "# Mount Google Drive - Google Colab Tutorial\n",
        "\n",
        "######################################################\n",
        "\n",
        "from google.colab import drive\n",
        "\n",
        "drive.mount(\"/content/gdrive\")\n",
        "\n",
        "import pandas as pd\n",
        "\n",
        "stock_data = pd.read_csv(\"AAPL.csv\")\n",
        "\n",
        "print(stock_data)"
      ],
      "execution_count": 0,
      "outputs": []
    }
  ]
}