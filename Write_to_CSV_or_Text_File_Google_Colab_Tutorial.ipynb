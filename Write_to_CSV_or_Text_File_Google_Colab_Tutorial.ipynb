{
  "nbformat": 4,
  "nbformat_minor": 0,
  "metadata": {
    "colab": {
      "name": "Write to CSV or Text File - Google Colab Tutorial.ipynb",
      "version": "0.3.2",
      "provenance": []
    },
    "kernelspec": {
      "name": "python3",
      "display_name": "Python 3"
    }
  },
  "cells": [
    {
      "metadata": {
        "id": "4lwVtza4uQKV",
        "colab_type": "code",
        "colab": {
          "base_uri": "https://localhost:8080/",
          "height": 67
        },
        "outputId": "26fe7b7a-b281-44bb-8975-47fa328fbb4d"
      },
      "cell_type": "code",
      "source": [
        "# Write to CSV or Text File - Google Colab Tutorial\n",
        "\n",
        "######################################################\n",
        "\n",
        "from google.colab import files\n",
        "\n",
        "some_text = \"Hello World!!!\"\n",
        "\n",
        "some_file = open(\"some_text_file.txt\",\"w\")\n",
        "\n",
        "some_file.write(some_text)\n",
        "\n",
        "######################################################\n",
        "\n",
        "print(some_file)\n",
        "\n",
        "read_some_file = open(\"some_text_file.txt\",\"r\")\n",
        "print(read_some_file.read())\n",
        "\n",
        "######################################################\n",
        "\n",
        "some_file.write(\"\\nHello Again!!!\")\n",
        "\n",
        "read_some_file = open(\"some_text_file.txt\",\"r\")\n",
        "\n",
        "print(read_some_file.read())\n",
        "\n",
        "######################################################\n",
        "\n",
        "files.download(\"some_text_file.txt\")\n",
        "\n",
        "######################################################\n",
        "\n",
        "some_list = \"1,2,3,4,5\"\n",
        "\n",
        "some_csv = open(\"some_csv_file.csv\",\"w\")\n",
        "\n",
        "some_csv.write(some_list)\n",
        "\n",
        "some_csv.write(\"\\n 6,7,8,9,10\")\n",
        "\n",
        "files.download(\"some_csv_file.csv\")"
      ],
      "execution_count": 5,
      "outputs": [
        {
          "output_type": "stream",
          "text": [
            "<_io.TextIOWrapper name='some_text_file.txt' mode='w' encoding='UTF-8'>\n",
            "Hello World!!!\n",
            "Hello World!!!\n"
          ],
          "name": "stdout"
        }
      ]
    }
  ]
}